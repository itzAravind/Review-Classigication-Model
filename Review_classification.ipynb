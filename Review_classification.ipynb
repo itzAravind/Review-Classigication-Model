{
 "cells": [
  {
   "cell_type": "code",
   "execution_count": 53,
   "metadata": {},
   "outputs": [],
   "source": [
    "# os - operating system\n",
    "import os\n",
    "# io - input/output\n",
    "import io\n",
    "#pandas - data manipulation\n",
    "import pandas as pd\n",
    "#algorithm used\n",
    "import torch\n",
    "#from sklearn.naive_bayes import MultinomialNB\n",
    "#from sklearn.feature_extraction.text import CountVectorizer\n",
    "#data visualization\n",
    "#import seaborn as sns\n",
    "import matplotlib.pyplot as plt\n",
    "#data manipulation\n",
    "import numpy as np\n",
    "from bs4 import BeautifulSoup\n",
    "import seaborn as sns\n",
    "import re\n",
    "os.environ['KMP_DUPLICATE_LIB_OK']= 'TRUE'"
   ]
  },
  {
   "cell_type": "code",
   "execution_count": 54,
   "metadata": {},
   "outputs": [],
   "source": [
    "#reading the dataset\n",
    "path = 'Review_dataset/'\n",
    "for root, folder, fileName in os.walk(path):\n",
    "    #print(root,folder,fileName)\n",
    "    break\n",
    "    "
   ]
  },
  {
   "cell_type": "code",
   "execution_count": 55,
   "metadata": {},
   "outputs": [
    {
     "name": "stdout",
     "output_type": "stream",
     "text": [
      "C:\\Users\\Srinivas Aravind\\Downloads\\sample_model\\sample_model\n"
     ]
    }
   ],
   "source": [
    "#fetching the path of the current directory\n",
    "a=os.getcwd()\n",
    "print(a)"
   ]
  },
  {
   "cell_type": "code",
   "execution_count": 56,
   "metadata": {},
   "outputs": [
    {
     "data": {
      "text/plain": [
       "'Restaurant_Reviews.csv'"
      ]
     },
     "execution_count": 56,
     "metadata": {},
     "output_type": "execute_result"
    }
   ],
   "source": [
    "fileName[0]"
   ]
  },
  {
   "cell_type": "code",
   "execution_count": 57,
   "metadata": {},
   "outputs": [],
   "source": [
    "#Reading the dataset\n",
    "df = pd.read_csv(a+'\\\\Review_dataset\\\\Restaurant_Reviews.csv',encoding='latin-1')"
   ]
  },
  {
   "cell_type": "code",
   "execution_count": 58,
   "metadata": {},
   "outputs": [
    {
     "data": {
      "text/html": [
       "<div>\n",
       "<style scoped>\n",
       "    .dataframe tbody tr th:only-of-type {\n",
       "        vertical-align: middle;\n",
       "    }\n",
       "\n",
       "    .dataframe tbody tr th {\n",
       "        vertical-align: top;\n",
       "    }\n",
       "\n",
       "    .dataframe thead th {\n",
       "        text-align: right;\n",
       "    }\n",
       "</style>\n",
       "<table border=\"1\" class=\"dataframe\">\n",
       "  <thead>\n",
       "    <tr style=\"text-align: right;\">\n",
       "      <th></th>\n",
       "      <th>Review</th>\n",
       "      <th>Liked</th>\n",
       "      <th>Category</th>\n",
       "    </tr>\n",
       "  </thead>\n",
       "  <tbody>\n",
       "    <tr>\n",
       "      <th>0</th>\n",
       "      <td>Wow... Loved this place.</td>\n",
       "      <td>1</td>\n",
       "      <td>ambience</td>\n",
       "    </tr>\n",
       "    <tr>\n",
       "      <th>1</th>\n",
       "      <td>Crust is not good.</td>\n",
       "      <td>0</td>\n",
       "      <td>Food taste</td>\n",
       "    </tr>\n",
       "    <tr>\n",
       "      <th>2</th>\n",
       "      <td>Not tasty and the texture was just nasty.</td>\n",
       "      <td>0</td>\n",
       "      <td>Food taste</td>\n",
       "    </tr>\n",
       "    <tr>\n",
       "      <th>3</th>\n",
       "      <td>Stopped by during the late May bank holiday of...</td>\n",
       "      <td>1</td>\n",
       "      <td>recommend</td>\n",
       "    </tr>\n",
       "    <tr>\n",
       "      <th>4</th>\n",
       "      <td>The selection on the menu was great and so wer...</td>\n",
       "      <td>1</td>\n",
       "      <td>cost</td>\n",
       "    </tr>\n",
       "    <tr>\n",
       "      <th>...</th>\n",
       "      <td>...</td>\n",
       "      <td>...</td>\n",
       "      <td>...</td>\n",
       "    </tr>\n",
       "    <tr>\n",
       "      <th>2494</th>\n",
       "      <td>Good beer &amp; drink selection and good food sele...</td>\n",
       "      <td>1</td>\n",
       "      <td>recommend</td>\n",
       "    </tr>\n",
       "    <tr>\n",
       "      <th>2495</th>\n",
       "      <td>This greedy corporation will NEVER see another...</td>\n",
       "      <td>0</td>\n",
       "      <td>recommend</td>\n",
       "    </tr>\n",
       "    <tr>\n",
       "      <th>2496</th>\n",
       "      <td>In the summer, you can dine in a charming outd...</td>\n",
       "      <td>1</td>\n",
       "      <td>recommend</td>\n",
       "    </tr>\n",
       "    <tr>\n",
       "      <th>2497</th>\n",
       "      <td>I did not expect this to be so good!</td>\n",
       "      <td>1</td>\n",
       "      <td>recommend</td>\n",
       "    </tr>\n",
       "    <tr>\n",
       "      <th>2498</th>\n",
       "      <td>Favorite place in town for shawarrrrrrma!!!!!!</td>\n",
       "      <td>1</td>\n",
       "      <td>recommend</td>\n",
       "    </tr>\n",
       "  </tbody>\n",
       "</table>\n",
       "<p>2499 rows × 3 columns</p>\n",
       "</div>"
      ],
      "text/plain": [
       "                                                 Review  Liked    Category\n",
       "0                              Wow... Loved this place.      1    ambience\n",
       "1                                    Crust is not good.      0  Food taste\n",
       "2             Not tasty and the texture was just nasty.      0  Food taste\n",
       "3     Stopped by during the late May bank holiday of...      1   recommend\n",
       "4     The selection on the menu was great and so wer...      1        cost\n",
       "...                                                 ...    ...         ...\n",
       "2494  Good beer & drink selection and good food sele...      1   recommend\n",
       "2495  This greedy corporation will NEVER see another...      0   recommend\n",
       "2496  In the summer, you can dine in a charming outd...      1   recommend\n",
       "2497               I did not expect this to be so good!      1   recommend\n",
       "2498     Favorite place in town for shawarrrrrrma!!!!!!      1   recommend\n",
       "\n",
       "[2499 rows x 3 columns]"
      ]
     },
     "execution_count": 58,
     "metadata": {},
     "output_type": "execute_result"
    }
   ],
   "source": [
    "#viewing the dataset\n",
    "df"
   ]
  },
  {
   "cell_type": "code",
   "execution_count": 59,
   "metadata": {},
   "outputs": [],
   "source": [
    "#removing the empty rows and re-assigning the index\n",
    "df=df.dropna()\n",
    "df.reset_index(drop=True, inplace=True)\n"
   ]
  },
  {
   "cell_type": "code",
   "execution_count": 60,
   "metadata": {},
   "outputs": [
    {
     "data": {
      "text/html": [
       "<div>\n",
       "<style scoped>\n",
       "    .dataframe tbody tr th:only-of-type {\n",
       "        vertical-align: middle;\n",
       "    }\n",
       "\n",
       "    .dataframe tbody tr th {\n",
       "        vertical-align: top;\n",
       "    }\n",
       "\n",
       "    .dataframe thead th {\n",
       "        text-align: right;\n",
       "    }\n",
       "</style>\n",
       "<table border=\"1\" class=\"dataframe\">\n",
       "  <thead>\n",
       "    <tr style=\"text-align: right;\">\n",
       "      <th></th>\n",
       "      <th>Review</th>\n",
       "      <th>Liked</th>\n",
       "      <th>Category</th>\n",
       "    </tr>\n",
       "  </thead>\n",
       "  <tbody>\n",
       "    <tr>\n",
       "      <th>0</th>\n",
       "      <td>Wow... Loved this place.</td>\n",
       "      <td>1</td>\n",
       "      <td>ambience</td>\n",
       "    </tr>\n",
       "    <tr>\n",
       "      <th>1</th>\n",
       "      <td>Crust is not good.</td>\n",
       "      <td>0</td>\n",
       "      <td>Food taste</td>\n",
       "    </tr>\n",
       "    <tr>\n",
       "      <th>2</th>\n",
       "      <td>Not tasty and the texture was just nasty.</td>\n",
       "      <td>0</td>\n",
       "      <td>Food taste</td>\n",
       "    </tr>\n",
       "    <tr>\n",
       "      <th>3</th>\n",
       "      <td>Stopped by during the late May bank holiday of...</td>\n",
       "      <td>1</td>\n",
       "      <td>recommend</td>\n",
       "    </tr>\n",
       "    <tr>\n",
       "      <th>4</th>\n",
       "      <td>The selection on the menu was great and so wer...</td>\n",
       "      <td>1</td>\n",
       "      <td>cost</td>\n",
       "    </tr>\n",
       "    <tr>\n",
       "      <th>...</th>\n",
       "      <td>...</td>\n",
       "      <td>...</td>\n",
       "      <td>...</td>\n",
       "    </tr>\n",
       "    <tr>\n",
       "      <th>2487</th>\n",
       "      <td>Good beer &amp; drink selection and good food sele...</td>\n",
       "      <td>1</td>\n",
       "      <td>recommend</td>\n",
       "    </tr>\n",
       "    <tr>\n",
       "      <th>2488</th>\n",
       "      <td>This greedy corporation will NEVER see another...</td>\n",
       "      <td>0</td>\n",
       "      <td>recommend</td>\n",
       "    </tr>\n",
       "    <tr>\n",
       "      <th>2489</th>\n",
       "      <td>In the summer, you can dine in a charming outd...</td>\n",
       "      <td>1</td>\n",
       "      <td>recommend</td>\n",
       "    </tr>\n",
       "    <tr>\n",
       "      <th>2490</th>\n",
       "      <td>I did not expect this to be so good!</td>\n",
       "      <td>1</td>\n",
       "      <td>recommend</td>\n",
       "    </tr>\n",
       "    <tr>\n",
       "      <th>2491</th>\n",
       "      <td>Favorite place in town for shawarrrrrrma!!!!!!</td>\n",
       "      <td>1</td>\n",
       "      <td>recommend</td>\n",
       "    </tr>\n",
       "  </tbody>\n",
       "</table>\n",
       "<p>2492 rows × 3 columns</p>\n",
       "</div>"
      ],
      "text/plain": [
       "                                                 Review  Liked    Category\n",
       "0                              Wow... Loved this place.      1    ambience\n",
       "1                                    Crust is not good.      0  Food taste\n",
       "2             Not tasty and the texture was just nasty.      0  Food taste\n",
       "3     Stopped by during the late May bank holiday of...      1   recommend\n",
       "4     The selection on the menu was great and so wer...      1        cost\n",
       "...                                                 ...    ...         ...\n",
       "2487  Good beer & drink selection and good food sele...      1   recommend\n",
       "2488  This greedy corporation will NEVER see another...      0   recommend\n",
       "2489  In the summer, you can dine in a charming outd...      1   recommend\n",
       "2490               I did not expect this to be so good!      1   recommend\n",
       "2491     Favorite place in town for shawarrrrrrma!!!!!!      1   recommend\n",
       "\n",
       "[2492 rows x 3 columns]"
      ]
     },
     "execution_count": 60,
     "metadata": {},
     "output_type": "execute_result"
    }
   ],
   "source": [
    "#viewing the dataset after dropping the empty rows\n",
    "df"
   ]
  },
  {
   "cell_type": "code",
   "execution_count": 61,
   "metadata": {},
   "outputs": [
    {
     "data": {
      "text/plain": [
       "<matplotlib.image.AxesImage at 0x269972e7250>"
      ]
     },
     "execution_count": 61,
     "metadata": {},
     "output_type": "execute_result"
    },
    {
     "data": {
      "image/png": "[encoded data removed]",
      "text/plain": [
       "<Figure size 720x720 with 1 Axes>"
      ]
     },
     "metadata": {
      "needs_background": "light"
     },
     "output_type": "display_data"
    }
   ],
   "source": [
    "#Generating word clouds of reviews\n",
    "from wordcloud import WordCloud,STOPWORDS\n",
    "\n",
    "plt.figure(figsize=(10,10))\n",
    "\n",
    "\n",
    "sub_set_ori = df\n",
    "text_ori = sub_set_ori.Review\n",
    "cloud_ori = WordCloud(\n",
    "                          #stopwords=STOPWORDS,\n",
    "                          background_color='white',\n",
    "                          #collocations=False,\n",
    "                          width=180,\n",
    "                          height=180,\n",
    "                          min_font_size=3\n",
    "                          ).generate(\" \".join(text_ori))\n",
    "\n",
    "plt.axis('off')\n",
    "plt.title(\" Glipse of some words in reviews\",fontsize=30)\n",
    "plt.imshow(cloud_ori)"
   ]
  },
  {
   "cell_type": "code",
   "execution_count": 62,
   "metadata": {},
   "outputs": [
    {
     "name": "stdout",
     "output_type": "stream",
     "text": [
      "Top 10 Words in Reviews\n",
      "       words  Frequency\n",
      "0        the       1128\n",
      "1        and        905\n",
      "2          I        678\n",
      "3        was        638\n",
      "4          a        534\n",
      "5         is        515\n",
      "6         to        457\n",
      "7        The        405\n",
      "8         of        312\n",
      "9        for        274\n",
      "10       not        266\n",
      "11        in        240\n",
      "12      food        234\n",
      "13        it        213\n",
      "14      very        194\n",
      "15      this        188\n",
      "16     place        186\n",
      "17      with        175\n",
      "18       are        167\n",
      "19        be        155\n",
      "20     great        150\n",
      "21      good        147\n",
      "22      they        144\n",
      "23      that        138\n",
      "24        at        138\n",
      "25        so        136\n",
      "26       had        136\n",
      "27      were        133\n",
      "28        my        127\n",
      "29      have        127\n",
      "30  quantity        125\n",
      "31       but        115\n",
      "32      This         99\n",
      "33       you         97\n",
      "34        we         97\n",
      "35        on         96\n",
      "36        as         93\n",
      "37   service         93\n",
      "38      like         83\n",
      "39      just         80\n",
      "40        go         80\n",
      "41      time         79\n",
      "42       our         79\n",
      "43        We         78\n",
      "44      here         78\n",
      "45      back         75\n",
      "46       all         72\n",
      "47        It         70\n",
      "48      will         70\n",
      "49    really         68\n"
     ]
    }
   ],
   "source": [
    "#Counting the most occuring words in reviews\n",
    "from collections import Counter\n",
    "count_reviews=Counter(\" \".join(df['Review']).split()).most_common(50)\n",
    "data1=pd.DataFrame.from_dict(count_reviews,)\n",
    "data1.rename(columns={0:'words',1:'Frequency'},inplace=True)\n",
    "print(\"Top 10 Words in Reviews\")\n",
    "print(data1)\n"
   ]
  },
  {
   "cell_type": "code",
   "execution_count": 63,
   "metadata": {},
   "outputs": [
    {
     "name": "stderr",
     "output_type": "stream",
     "text": [
      "<ipython-input-63-50e3615f5e41>:2: SettingWithCopyWarning: \n",
      "A value is trying to be set on a copy of a slice from a DataFrame.\n",
      "Try using .loc[row_indexer,col_indexer] = value instead\n",
      "\n",
      "See the caveats in the documentation: https://pandas.pydata.org/pandas-docs/stable/user_guide/indexing.html#returning-a-view-versus-a-copy\n",
      "  df['initial_review_length'] = df['Review'].apply(len)\n"
     ]
    },
    {
     "data": {
      "text/html": [
       "<div>\n",
       "<style scoped>\n",
       "    .dataframe tbody tr th:only-of-type {\n",
       "        vertical-align: middle;\n",
       "    }\n",
       "\n",
       "    .dataframe tbody tr th {\n",
       "        vertical-align: top;\n",
       "    }\n",
       "\n",
       "    .dataframe thead th {\n",
       "        text-align: right;\n",
       "    }\n",
       "</style>\n",
       "<table border=\"1\" class=\"dataframe\">\n",
       "  <thead>\n",
       "    <tr style=\"text-align: right;\">\n",
       "      <th></th>\n",
       "      <th>Review</th>\n",
       "      <th>Liked</th>\n",
       "      <th>Category</th>\n",
       "      <th>initial_review_length</th>\n",
       "    </tr>\n",
       "  </thead>\n",
       "  <tbody>\n",
       "    <tr>\n",
       "      <th>0</th>\n",
       "      <td>Wow... Loved this place.</td>\n",
       "      <td>1</td>\n",
       "      <td>ambience</td>\n",
       "      <td>24</td>\n",
       "    </tr>\n",
       "    <tr>\n",
       "      <th>1</th>\n",
       "      <td>Crust is not good.</td>\n",
       "      <td>0</td>\n",
       "      <td>Food taste</td>\n",
       "      <td>18</td>\n",
       "    </tr>\n",
       "    <tr>\n",
       "      <th>2</th>\n",
       "      <td>Not tasty and the texture was just nasty.</td>\n",
       "      <td>0</td>\n",
       "      <td>Food taste</td>\n",
       "      <td>41</td>\n",
       "    </tr>\n",
       "    <tr>\n",
       "      <th>3</th>\n",
       "      <td>Stopped by during the late May bank holiday of...</td>\n",
       "      <td>1</td>\n",
       "      <td>recommend</td>\n",
       "      <td>87</td>\n",
       "    </tr>\n",
       "    <tr>\n",
       "      <th>4</th>\n",
       "      <td>The selection on the menu was great and so wer...</td>\n",
       "      <td>1</td>\n",
       "      <td>cost</td>\n",
       "      <td>59</td>\n",
       "    </tr>\n",
       "  </tbody>\n",
       "</table>\n",
       "</div>"
      ],
      "text/plain": [
       "                                              Review  Liked    Category  \\\n",
       "0                           Wow... Loved this place.      1    ambience   \n",
       "1                                 Crust is not good.      0  Food taste   \n",
       "2          Not tasty and the texture was just nasty.      0  Food taste   \n",
       "3  Stopped by during the late May bank holiday of...      1   recommend   \n",
       "4  The selection on the menu was great and so wer...      1        cost   \n",
       "\n",
       "   initial_review_length  \n",
       "0                     24  \n",
       "1                     18  \n",
       "2                     41  \n",
       "3                     87  \n",
       "4                     59  "
      ]
     },
     "execution_count": 63,
     "metadata": {},
     "output_type": "execute_result"
    }
   ],
   "source": [
    "#Adding a new column in the dataset for review length before preprocessing the dataset\n",
    "df['initial_review_length'] = df['Review'].apply(len)\n",
    "df.head()"
   ]
  },
  {
   "cell_type": "code",
   "execution_count": 64,
   "metadata": {},
   "outputs": [
    {
     "data": {
      "text/plain": [
       "count    2492.000000\n",
       "mean       55.756019\n",
       "std        30.521532\n",
       "min        11.000000\n",
       "25%        33.000000\n",
       "50%        48.000000\n",
       "75%        73.000000\n",
       "max       149.000000\n",
       "Name: initial_review_length, dtype: float64"
      ]
     },
     "execution_count": 64,
     "metadata": {},
     "output_type": "execute_result"
    }
   ],
   "source": [
    "#Statistical Decription of the length of the dataset before preprocessing the dataset\n",
    "df['initial_review_length'].describe()"
   ]
  },
  {
   "cell_type": "code",
   "execution_count": 65,
   "metadata": {},
   "outputs": [],
   "source": [
    "#methods for cleaning the dataset\n",
    "\n",
    "def removeHTMLTags(review):\n",
    "    soup = BeautifulSoup(review, 'lxml')\n",
    "    return soup.get_text()\n",
    "\n",
    "def removeApostrophe(review):\n",
    "    phrase = re.sub(r\"won't\", \"will not\", review)\n",
    "    phrase = re.sub(r\"can\\'t\", \"can not\", review)\n",
    "    phrase = re.sub(r\"n\\'t\", \" not\", review)\n",
    "    phrase = re.sub(r\"\\'re\", \" are\", review)\n",
    "    phrase = re.sub(r\"\\'s\", \" is\", review)\n",
    "    phrase = re.sub(r\"\\'d\", \" would\", review)\n",
    "    phrase = re.sub(r\"\\'ll\", \" will\", review)\n",
    "    phrase = re.sub(r\"\\'t\", \" not\", review)\n",
    "    phrase = re.sub(r\"\\'ve\", \" have\", review)\n",
    "    phrase = re.sub(r\"\\'m\", \" am\", review)\n",
    "    return phrase\n",
    "\n",
    "def removeAlphaNumericWords(review):\n",
    "     return re.sub(\"\\S*\\d\\S*\", \"\", review).strip()\n",
    "\n",
    "def removeSpecialChars(review):\n",
    "     return re.sub('[^a-zA-Z]', ' ', review)\n",
    "\n",
    "def doTextCleaning(review):\n",
    "    review = removeHTMLTags(review)\n",
    "    review = removeApostrophe(review)\n",
    "    review = removeAlphaNumericWords(review)\n",
    "    review = removeSpecialChars(review) \n",
    "    # Lower casing\n",
    "    review = review.lower()  \n",
    "    #Tokenization\n",
    "    review = review.split()\n",
    "    review = \" \".join(review)\n",
    "    '''#Removing Stopwords and Lemmatization\n",
    "    lmtzr = WordNetLemmatizer()\n",
    "    review = [lmtzr.lemmatize(word, 'v') for word in review if not word in set(stopwords.words('english'))]'''\n",
    "       \n",
    "    return review\n",
    "\n"
   ]
  },
  {
   "cell_type": "code",
   "execution_count": 66,
   "metadata": {},
   "outputs": [
    {
     "name": "stderr",
     "output_type": "stream",
     "text": [
      "<ipython-input-66-77ef6a14f695>:4: SettingWithCopyWarning: \n",
      "A value is trying to be set on a copy of a slice from a DataFrame\n",
      "\n",
      "See the caveats in the documentation: https://pandas.pydata.org/pandas-docs/stable/user_guide/indexing.html#returning-a-view-versus-a-copy\n",
      "  df['Review'][i]=review\n",
      "C:\\Users\\Public\\anaconda3\\lib\\site-packages\\IPython\\core\\interactiveshell.py:3418: SettingWithCopyWarning: \n",
      "A value is trying to be set on a copy of a slice from a DataFrame\n",
      "\n",
      "See the caveats in the documentation: https://pandas.pydata.org/pandas-docs/stable/user_guide/indexing.html#returning-a-view-versus-a-copy\n",
      "  exec(code_obj, self.user_global_ns, self.user_ns)\n"
     ]
    }
   ],
   "source": [
    "for i in range(len(df['Review'])):\n",
    "    #print(dataset['Review'][2])\n",
    "    review=doTextCleaning(df['Review'][i])\n",
    "    df['Review'][i]=review\n",
    "    #print(dataset['Review'][i])\n",
    "    \n",
    "    \n",
    "    \n",
    "    "
   ]
  },
  {
   "cell_type": "code",
   "execution_count": 67,
   "metadata": {},
   "outputs": [
    {
     "name": "stdout",
     "output_type": "stream",
     "text": [
      "['Food taste', 'ambience', 'atmosphere', 'cost', 'expierence', 'hygiene', 'menu', 'quality', 'quantity', 'recommend', 'services']\n"
     ]
    }
   ],
   "source": [
    "#fetching the categories available in the dataset and sorting it in ascending order\n",
    "category_list=df['Category'].tolist()\n",
    "category_list=list(set(category_list))\n",
    "category_list.sort()\n",
    "print(category_list)"
   ]
  },
  {
   "cell_type": "code",
   "execution_count": 68,
   "metadata": {},
   "outputs": [],
   "source": [
    "#created category_dict to assign a value for each category\n",
    "category_dict=dict()\n",
    "idx=0\n",
    "for i in category_list:\n",
    "    category_dict[i]=idx\n",
    "    idx+=1\n",
    "    "
   ]
  },
  {
   "cell_type": "code",
   "execution_count": 69,
   "metadata": {},
   "outputs": [
    {
     "data": {
      "text/plain": [
       "{'Food taste': 0,\n",
       " 'ambience': 1,\n",
       " 'atmosphere': 2,\n",
       " 'cost': 3,\n",
       " 'expierence': 4,\n",
       " 'hygiene': 5,\n",
       " 'menu': 6,\n",
       " 'quality': 7,\n",
       " 'quantity': 8,\n",
       " 'recommend': 9,\n",
       " 'services': 10}"
      ]
     },
     "execution_count": 69,
     "metadata": {},
     "output_type": "execute_result"
    }
   ],
   "source": [
    "category_dict"
   ]
  },
  {
   "cell_type": "code",
   "execution_count": 70,
   "metadata": {},
   "outputs": [
    {
     "name": "stderr",
     "output_type": "stream",
     "text": [
      "<ipython-input-70-e503d2c62cdd>:7: SettingWithCopyWarning: \n",
      "A value is trying to be set on a copy of a slice from a DataFrame\n",
      "\n",
      "See the caveats in the documentation: https://pandas.pydata.org/pandas-docs/stable/user_guide/indexing.html#returning-a-view-versus-a-copy\n",
      "  df['Category'][i]=category_dict[idx]\n"
     ]
    }
   ],
   "source": [
    "#assigning the respecting value of the category in the dataset\n",
    "\n",
    "for i in range(len(df['Category'])):\n",
    "    #print(df['Review'][i])\n",
    "    #print(df['Category'][i])\n",
    "    idx=df['Category'][i]\n",
    "    df['Category'][i]=category_dict[idx]\n",
    "    #i[2]=category_dict[idx]\n",
    "    "
   ]
  },
  {
   "cell_type": "code",
   "execution_count": 71,
   "metadata": {},
   "outputs": [
    {
     "data": {
      "text/html": [
       "<div>\n",
       "<style scoped>\n",
       "    .dataframe tbody tr th:only-of-type {\n",
       "        vertical-align: middle;\n",
       "    }\n",
       "\n",
       "    .dataframe tbody tr th {\n",
       "        vertical-align: top;\n",
       "    }\n",
       "\n",
       "    .dataframe thead th {\n",
       "        text-align: right;\n",
       "    }\n",
       "</style>\n",
       "<table border=\"1\" class=\"dataframe\">\n",
       "  <thead>\n",
       "    <tr style=\"text-align: right;\">\n",
       "      <th></th>\n",
       "      <th>Review</th>\n",
       "      <th>Liked</th>\n",
       "      <th>Category</th>\n",
       "      <th>initial_review_length</th>\n",
       "    </tr>\n",
       "  </thead>\n",
       "  <tbody>\n",
       "    <tr>\n",
       "      <th>0</th>\n",
       "      <td>wow loved this place</td>\n",
       "      <td>1</td>\n",
       "      <td>1</td>\n",
       "      <td>24</td>\n",
       "    </tr>\n",
       "    <tr>\n",
       "      <th>1</th>\n",
       "      <td>crust is not good</td>\n",
       "      <td>0</td>\n",
       "      <td>0</td>\n",
       "      <td>18</td>\n",
       "    </tr>\n",
       "    <tr>\n",
       "      <th>2</th>\n",
       "      <td>not tasty and the texture was just nasty</td>\n",
       "      <td>0</td>\n",
       "      <td>0</td>\n",
       "      <td>41</td>\n",
       "    </tr>\n",
       "    <tr>\n",
       "      <th>3</th>\n",
       "      <td>stopped by during the late may bank holiday of...</td>\n",
       "      <td>1</td>\n",
       "      <td>9</td>\n",
       "      <td>87</td>\n",
       "    </tr>\n",
       "    <tr>\n",
       "      <th>4</th>\n",
       "      <td>the selection on the menu was great and so wer...</td>\n",
       "      <td>1</td>\n",
       "      <td>3</td>\n",
       "      <td>59</td>\n",
       "    </tr>\n",
       "    <tr>\n",
       "      <th>5</th>\n",
       "      <td>now i am getting angry and i want my damn pho</td>\n",
       "      <td>0</td>\n",
       "      <td>4</td>\n",
       "      <td>46</td>\n",
       "    </tr>\n",
       "    <tr>\n",
       "      <th>6</th>\n",
       "      <td>honeslty it didn t taste that fresh</td>\n",
       "      <td>0</td>\n",
       "      <td>0</td>\n",
       "      <td>37</td>\n",
       "    </tr>\n",
       "    <tr>\n",
       "      <th>7</th>\n",
       "      <td>the potatoes were like rubber and you could te...</td>\n",
       "      <td>0</td>\n",
       "      <td>0</td>\n",
       "      <td>111</td>\n",
       "    </tr>\n",
       "    <tr>\n",
       "      <th>8</th>\n",
       "      <td>the fries were great too</td>\n",
       "      <td>1</td>\n",
       "      <td>0</td>\n",
       "      <td>25</td>\n",
       "    </tr>\n",
       "    <tr>\n",
       "      <th>9</th>\n",
       "      <td>a great touch</td>\n",
       "      <td>1</td>\n",
       "      <td>9</td>\n",
       "      <td>14</td>\n",
       "    </tr>\n",
       "  </tbody>\n",
       "</table>\n",
       "</div>"
      ],
      "text/plain": [
       "                                              Review  Liked Category  \\\n",
       "0                               wow loved this place      1        1   \n",
       "1                                  crust is not good      0        0   \n",
       "2           not tasty and the texture was just nasty      0        0   \n",
       "3  stopped by during the late may bank holiday of...      1        9   \n",
       "4  the selection on the menu was great and so wer...      1        3   \n",
       "5      now i am getting angry and i want my damn pho      0        4   \n",
       "6                honeslty it didn t taste that fresh      0        0   \n",
       "7  the potatoes were like rubber and you could te...      0        0   \n",
       "8                           the fries were great too      1        0   \n",
       "9                                      a great touch      1        9   \n",
       "\n",
       "   initial_review_length  \n",
       "0                     24  \n",
       "1                     18  \n",
       "2                     41  \n",
       "3                     87  \n",
       "4                     59  \n",
       "5                     46  \n",
       "6                     37  \n",
       "7                    111  \n",
       "8                     25  \n",
       "9                     14  "
      ]
     },
     "execution_count": 71,
     "metadata": {},
     "output_type": "execute_result"
    }
   ],
   "source": [
    "#viewing the dataset after assigning the values to the category\n",
    "df.head(10)"
   ]
  },
  {
   "cell_type": "code",
   "execution_count": 72,
   "metadata": {},
   "outputs": [
    {
     "name": "stdout",
     "output_type": "stream",
     "text": [
      "<class 'pandas.core.frame.DataFrame'>\n",
      "RangeIndex: 2492 entries, 0 to 2491\n",
      "Data columns (total 4 columns):\n",
      " #   Column                 Non-Null Count  Dtype \n",
      "---  ------                 --------------  ----- \n",
      " 0   Review                 2492 non-null   object\n",
      " 1   Liked                  2492 non-null   int64 \n",
      " 2   Category               2492 non-null   object\n",
      " 3   initial_review_length  2492 non-null   int64 \n",
      "dtypes: int64(2), object(2)\n",
      "memory usage: 78.0+ KB\n"
     ]
    }
   ],
   "source": [
    "df.info()"
   ]
  },
  {
   "cell_type": "code",
   "execution_count": 73,
   "metadata": {},
   "outputs": [
    {
     "name": "stderr",
     "output_type": "stream",
     "text": [
      "<ipython-input-73-178b9000be21>:2: SettingWithCopyWarning: \n",
      "A value is trying to be set on a copy of a slice from a DataFrame.\n",
      "Try using .loc[row_indexer,col_indexer] = value instead\n",
      "\n",
      "See the caveats in the documentation: https://pandas.pydata.org/pandas-docs/stable/user_guide/indexing.html#returning-a-view-versus-a-copy\n",
      "  df['processed_review_length'] = df['Review'].apply(len)\n"
     ]
    },
    {
     "data": {
      "text/html": [
       "<div>\n",
       "<style scoped>\n",
       "    .dataframe tbody tr th:only-of-type {\n",
       "        vertical-align: middle;\n",
       "    }\n",
       "\n",
       "    .dataframe tbody tr th {\n",
       "        vertical-align: top;\n",
       "    }\n",
       "\n",
       "    .dataframe thead th {\n",
       "        text-align: right;\n",
       "    }\n",
       "</style>\n",
       "<table border=\"1\" class=\"dataframe\">\n",
       "  <thead>\n",
       "    <tr style=\"text-align: right;\">\n",
       "      <th></th>\n",
       "      <th>Review</th>\n",
       "      <th>Liked</th>\n",
       "      <th>Category</th>\n",
       "      <th>initial_review_length</th>\n",
       "      <th>processed_review_length</th>\n",
       "    </tr>\n",
       "  </thead>\n",
       "  <tbody>\n",
       "    <tr>\n",
       "      <th>0</th>\n",
       "      <td>wow loved this place</td>\n",
       "      <td>1</td>\n",
       "      <td>1</td>\n",
       "      <td>24</td>\n",
       "      <td>20</td>\n",
       "    </tr>\n",
       "    <tr>\n",
       "      <th>1</th>\n",
       "      <td>crust is not good</td>\n",
       "      <td>0</td>\n",
       "      <td>0</td>\n",
       "      <td>18</td>\n",
       "      <td>17</td>\n",
       "    </tr>\n",
       "    <tr>\n",
       "      <th>2</th>\n",
       "      <td>not tasty and the texture was just nasty</td>\n",
       "      <td>0</td>\n",
       "      <td>0</td>\n",
       "      <td>41</td>\n",
       "      <td>40</td>\n",
       "    </tr>\n",
       "    <tr>\n",
       "      <th>3</th>\n",
       "      <td>stopped by during the late may bank holiday of...</td>\n",
       "      <td>1</td>\n",
       "      <td>9</td>\n",
       "      <td>87</td>\n",
       "      <td>86</td>\n",
       "    </tr>\n",
       "    <tr>\n",
       "      <th>4</th>\n",
       "      <td>the selection on the menu was great and so wer...</td>\n",
       "      <td>1</td>\n",
       "      <td>3</td>\n",
       "      <td>59</td>\n",
       "      <td>58</td>\n",
       "    </tr>\n",
       "  </tbody>\n",
       "</table>\n",
       "</div>"
      ],
      "text/plain": [
       "                                              Review  Liked Category  \\\n",
       "0                               wow loved this place      1        1   \n",
       "1                                  crust is not good      0        0   \n",
       "2           not tasty and the texture was just nasty      0        0   \n",
       "3  stopped by during the late may bank holiday of...      1        9   \n",
       "4  the selection on the menu was great and so wer...      1        3   \n",
       "\n",
       "   initial_review_length  processed_review_length  \n",
       "0                     24                       20  \n",
       "1                     18                       17  \n",
       "2                     41                       40  \n",
       "3                     87                       86  \n",
       "4                     59                       58  "
      ]
     },
     "execution_count": 73,
     "metadata": {},
     "output_type": "execute_result"
    }
   ],
   "source": [
    "#Adding a new column in the dataset for review length after preprocessing the dataset\n",
    "df['processed_review_length'] = df['Review'].apply(len)\n",
    "df.head()"
   ]
  },
  {
   "cell_type": "code",
   "execution_count": 74,
   "metadata": {},
   "outputs": [
    {
     "data": {
      "text/plain": [
       "count    2492.000000\n",
       "mean       54.065008\n",
       "std        29.920861\n",
       "min         9.000000\n",
       "25%        32.000000\n",
       "50%        47.000000\n",
       "75%        71.000000\n",
       "max       147.000000\n",
       "Name: processed_review_length, dtype: float64"
      ]
     },
     "execution_count": 74,
     "metadata": {},
     "output_type": "execute_result"
    }
   ],
   "source": [
    "#Statistical Decription of the length of the dataset\n",
    "df['processed_review_length'].describe()"
   ]
  },
  {
   "cell_type": "code",
   "execution_count": 75,
   "metadata": {},
   "outputs": [
    {
     "name": "stderr",
     "output_type": "stream",
     "text": [
      "C:\\Users\\Public\\anaconda3\\lib\\site-packages\\seaborn\\distributions.py:2551: FutureWarning: `distplot` is a deprecated function and will be removed in a future version. Please adapt your code to use either `displot` (a figure-level function with similar flexibility) or `histplot` (an axes-level function for histograms).\n",
      "  warnings.warn(msg, FutureWarning)\n"
     ]
    },
    {
     "data": {
      "text/plain": [
       "Text(0, 0.5, 'Frequency of Review')"
      ]
     },
     "execution_count": 75,
     "metadata": {},
     "output_type": "execute_result"
    },
    {
     "data": {
      "image/png": "[encoded data removed]",
      "text/plain": [
       "<Figure size 432x288 with 1 Axes>"
      ]
     },
     "metadata": {
      "needs_background": "light"
     },
     "output_type": "display_data"
    }
   ],
   "source": [
    "#Graph representing the lengths of the dataset\n",
    "sns.distplot(a=df['processed_review_length'])\n",
    "plt.title(\"Frequency of length of reviews\",fontsize=30)\n",
    "plt.xlabel(\"Review Length\")\n",
    "plt.ylabel(\"Frequency of Review\")"
   ]
  },
  {
   "cell_type": "code",
   "execution_count": 76,
   "metadata": {},
   "outputs": [],
   "source": [
    "list0=[]\n",
    "list1=[]\n",
    "list2=[]\n",
    "list3=[]\n",
    "list4=[]\n",
    "list5=[]\n",
    "list6=[]\n",
    "list7=[]\n",
    "list8=[]\n",
    "list9=[]\n",
    "list10=[]\n",
    "list_dict=dict()"
   ]
  },
  {
   "cell_type": "code",
   "execution_count": 77,
   "metadata": {},
   "outputs": [],
   "source": [
    "#creating seperate list for each category of reviews\n",
    "for i in range(len(df['Category'])):\n",
    "    #print(df['Review'][i])\n",
    "    #print(df['Category'][i])\n",
    "    idx=df['Category'][i]\n",
    "    if idx==0:\n",
    "        temp=[df['Review'][i],idx]\n",
    "        list0.append(temp)\n",
    "    elif idx==1:\n",
    "        temp=[df['Review'][i],idx]\n",
    "        list1.append(temp)\n",
    "    elif idx==2:\n",
    "        temp=[df['Review'][i],idx]\n",
    "        list2.append(temp)\n",
    "    elif idx==3:\n",
    "        temp=[df['Review'][i],idx]\n",
    "        list3.append(temp)\n",
    "    elif idx==4:\n",
    "        temp=[df['Review'][i],idx]\n",
    "        list4.append(temp)\n",
    "    elif idx==5:\n",
    "        temp=[df['Review'][i],idx]\n",
    "        list5.append(temp)\n",
    "    elif idx==6:\n",
    "        temp=[df['Review'][i],idx]\n",
    "        list6.append(temp)\n",
    "    elif idx==7:\n",
    "        temp=[df['Review'][i],idx]\n",
    "        list7.append(temp)\n",
    "    elif idx==8:\n",
    "        temp=[df['Review'][i],idx]\n",
    "        list8.append(temp)\n",
    "    elif idx==9:\n",
    "        temp=[df['Review'][i],idx]\n",
    "        list9.append(temp)\n",
    "    elif idx==10:\n",
    "        temp=[df['Review'][i],idx]\n",
    "        list10.append(temp)\n",
    "list_dict={\"list0\":list0,\"list1\":list1,\"list2\":list2,\"list3\":list3,\"list4\":list4,\"list5\":list5,\"list6\":list6,\"list7\":list7,\"list8\":list8,\"list9\":list9,\"list10\":list10}\n",
    "        \n",
    "    #df['Category'][i]=category_dict[idx]\n",
    "    #i[2]=category_dict[idx]\n",
    "    "
   ]
  },
  {
   "cell_type": "code",
   "execution_count": 78,
   "metadata": {},
   "outputs": [
    {
     "data": {
      "image/png": "[encoded data removed]",
      "text/plain": [
       "<Figure size 432x288 with 1 Axes>"
      ]
     },
     "metadata": {
      "needs_background": "light"
     },
     "output_type": "display_data"
    }
   ],
   "source": [
    "#graphical representation of count of reviews in each category\n",
    "X = ['Food taste',\n",
    " 'ambience',\n",
    " 'atmosphere',\n",
    " 'cost',\n",
    " 'expierence',\n",
    " 'hygiene',\n",
    " 'menu',\n",
    " 'quality',\n",
    " 'quantity',\n",
    " 'recommend',\n",
    " 'services']\n",
    "ind = np.arange(len(X)) \n",
    "width = 0.35\n",
    "mycolors = ['blue', 'cyan', 'gray', 'orange', 'red','gold','green','pink','#DD7596','#8EB897','hotpink']\n",
    "length_reviews_category=[len(list0),len(list1),len(list2),len(list3),len(list4),len(list5),len(list6),len(list7),len(list8),len(list9),len(list10)]\n",
    "  \n",
    "xvals = length_reviews_category\n",
    "bar1 = plt.bar(ind, xvals, width, color = mycolors)\n",
    "  \n",
    "'''yvals = plot_list_negative\n",
    "bar2 = plt.bar(ind+width, yvals, width, color='r')'''\n",
    "  \n",
    "plt.xlabel(\"Category\")\n",
    "plt.ylabel('No.of reviews in each category')\n",
    "plt.title(\"Review Analysis\")\n",
    "  \n",
    "plt.xticks(ind+width,X,rotation=90)\n",
    "#plt.xticks([item for item in range (11)], X,)\n",
    "#plt.legend( (bar1), ('Positive', 'Negative') )\n",
    "plt.show()"
   ]
  },
  {
   "cell_type": "code",
   "execution_count": 79,
   "metadata": {},
   "outputs": [
    {
     "data": {
      "image/png": "[encoded data removed]",
      "text/plain": [
       "<Figure size 720x504 with 1 Axes>"
      ]
     },
     "metadata": {},
     "output_type": "display_data"
    }
   ],
   "source": [
    "# graphical representation of the dataset for review classification\n",
    "category_names = ['Food taste', 'ambience', 'atmosphere', 'cost', 'expierence', 'hygiene', 'menu', 'quality', 'quantity', 'recommend', 'services']\n",
    " \n",
    "data = [len(list0),len(list1),len(list2),len(list3),len(list4),len(list5),len(list6),len(list7),len(list8),len(list9),len(list10)]\n",
    "mycolors = ['blue', 'cyan', 'gray', 'orange', 'red','gold','green','pink','#DD7596','#8EB897','hotpink']\n",
    "# Creating plot\n",
    "fig = plt.figure(figsize =(10, 7))\n",
    "plt.pie(data, labels = category_names, autopct='%.0f%%',colors=mycolors, wedgeprops = { 'linewidth' : 3, 'edgecolor' : 'white' })\n",
    "plt.title(\"Percentage of Review in each category\")\n",
    "# show plot\n",
    "plt.show()"
   ]
  },
  {
   "cell_type": "code",
   "execution_count": 80,
   "metadata": {},
   "outputs": [],
   "source": [
    "#splitting the dataset into training and testing data list\n",
    "train_list=[]\n",
    "test_list=[]\n",
    "for i in list_dict:\n",
    "    length=int(len(list_dict[i])*75)//100\n",
    "    train_list+=list_dict[i][:length]\n",
    "    test_list+=list_dict[i][length:]\n",
    "    "
   ]
  },
  {
   "cell_type": "code",
   "execution_count": 81,
   "metadata": {},
   "outputs": [
    {
     "name": "stdout",
     "output_type": "stream",
     "text": [
      "1865\n",
      "627\n"
     ]
    }
   ],
   "source": [
    "print(len(train_list))\n",
    "print(len(test_list))"
   ]
  },
  {
   "cell_type": "code",
   "execution_count": 82,
   "metadata": {},
   "outputs": [
    {
     "name": "stdout",
     "output_type": "stream",
     "text": [
      "[['crust is not good', 0], ['not tasty and the texture was just nasty', 0], ['honeslty it didn t taste that fresh', 0], ['the potatoes were like rubber and you could tell they had been made up ahead of time being kept under a warmer', 0], ['the fries were great too', 0]]\n",
      "[['and the chef was generous with his time even came around twice so we can take pictures with him', 10], ['awesome service and food', 10], ['service was slow and not attentive', 10], ['your staff spends more time talking to themselves than me', 10]]\n"
     ]
    }
   ],
   "source": [
    "print(train_list[:5])\n",
    "print(test_list[-5:-1])"
   ]
  },
  {
   "cell_type": "code",
   "execution_count": 83,
   "metadata": {},
   "outputs": [],
   "source": [
    "#creating training dataset\n",
    "train_df = pd.DataFrame(train_list)\n",
    "train_df.columns = [\"text\", \"labels\"]\n"
   ]
  },
  {
   "cell_type": "code",
   "execution_count": 84,
   "metadata": {},
   "outputs": [],
   "source": [
    "#creating testing dataset\n",
    "eval_df = pd.DataFrame(test_list)\n",
    "eval_df.columns = [\"text\", \"labels\"]\n",
    "\n"
   ]
  },
  {
   "cell_type": "code",
   "execution_count": 85,
   "metadata": {},
   "outputs": [
    {
     "data": {
      "text/html": [
       "<div>\n",
       "<style scoped>\n",
       "    .dataframe tbody tr th:only-of-type {\n",
       "        vertical-align: middle;\n",
       "    }\n",
       "\n",
       "    .dataframe tbody tr th {\n",
       "        vertical-align: top;\n",
       "    }\n",
       "\n",
       "    .dataframe thead th {\n",
       "        text-align: right;\n",
       "    }\n",
       "</style>\n",
       "<table border=\"1\" class=\"dataframe\">\n",
       "  <thead>\n",
       "    <tr style=\"text-align: right;\">\n",
       "      <th></th>\n",
       "      <th>text</th>\n",
       "      <th>labels</th>\n",
       "    </tr>\n",
       "  </thead>\n",
       "  <tbody>\n",
       "    <tr>\n",
       "      <th>0</th>\n",
       "      <td>crust is not good</td>\n",
       "      <td>0</td>\n",
       "    </tr>\n",
       "    <tr>\n",
       "      <th>1</th>\n",
       "      <td>not tasty and the texture was just nasty</td>\n",
       "      <td>0</td>\n",
       "    </tr>\n",
       "    <tr>\n",
       "      <th>2</th>\n",
       "      <td>honeslty it didn t taste that fresh</td>\n",
       "      <td>0</td>\n",
       "    </tr>\n",
       "    <tr>\n",
       "      <th>3</th>\n",
       "      <td>the potatoes were like rubber and you could te...</td>\n",
       "      <td>0</td>\n",
       "    </tr>\n",
       "    <tr>\n",
       "      <th>4</th>\n",
       "      <td>the fries were great too</td>\n",
       "      <td>0</td>\n",
       "    </tr>\n",
       "  </tbody>\n",
       "</table>\n",
       "</div>"
      ],
      "text/plain": [
       "                                                text  labels\n",
       "0                                  crust is not good       0\n",
       "1           not tasty and the texture was just nasty       0\n",
       "2                honeslty it didn t taste that fresh       0\n",
       "3  the potatoes were like rubber and you could te...       0\n",
       "4                           the fries were great too       0"
      ]
     },
     "execution_count": 85,
     "metadata": {},
     "output_type": "execute_result"
    }
   ],
   "source": [
    "#viewing the tarining dataset\n",
    "train_df.head()"
   ]
  },
  {
   "cell_type": "code",
   "execution_count": 86,
   "metadata": {},
   "outputs": [
    {
     "data": {
      "text/html": [
       "<div>\n",
       "<style scoped>\n",
       "    .dataframe tbody tr th:only-of-type {\n",
       "        vertical-align: middle;\n",
       "    }\n",
       "\n",
       "    .dataframe tbody tr th {\n",
       "        vertical-align: top;\n",
       "    }\n",
       "\n",
       "    .dataframe thead th {\n",
       "        text-align: right;\n",
       "    }\n",
       "</style>\n",
       "<table border=\"1\" class=\"dataframe\">\n",
       "  <thead>\n",
       "    <tr style=\"text-align: right;\">\n",
       "      <th></th>\n",
       "      <th>text</th>\n",
       "      <th>labels</th>\n",
       "    </tr>\n",
       "  </thead>\n",
       "  <tbody>\n",
       "    <tr>\n",
       "      <th>0</th>\n",
       "      <td>great food</td>\n",
       "      <td>0</td>\n",
       "    </tr>\n",
       "    <tr>\n",
       "      <th>1</th>\n",
       "      <td>the fried rice was dry as well</td>\n",
       "      <td>0</td>\n",
       "    </tr>\n",
       "    <tr>\n",
       "      <th>2</th>\n",
       "      <td>the sweet potato tots were good but the onion ...</td>\n",
       "      <td>0</td>\n",
       "    </tr>\n",
       "    <tr>\n",
       "      <th>3</th>\n",
       "      <td>what a great double cheeseburger</td>\n",
       "      <td>0</td>\n",
       "    </tr>\n",
       "    <tr>\n",
       "      <th>4</th>\n",
       "      <td>the plantains were the worst i ve ever tasted</td>\n",
       "      <td>0</td>\n",
       "    </tr>\n",
       "  </tbody>\n",
       "</table>\n",
       "</div>"
      ],
      "text/plain": [
       "                                                text  labels\n",
       "0                                         great food       0\n",
       "1                     the fried rice was dry as well       0\n",
       "2  the sweet potato tots were good but the onion ...       0\n",
       "3                   what a great double cheeseburger       0\n",
       "4      the plantains were the worst i ve ever tasted       0"
      ]
     },
     "execution_count": 86,
     "metadata": {},
     "output_type": "execute_result"
    }
   ],
   "source": [
    "#viewing testing dataset\n",
    "eval_df.head()"
   ]
  },
  {
   "cell_type": "code",
   "execution_count": 87,
   "metadata": {},
   "outputs": [
    {
     "name": "stderr",
     "output_type": "stream",
     "text": [
      "Some weights of the model checkpoint at roberta-base were not used when initializing RobertaForSequenceClassification: ['lm_head.bias', 'roberta.pooler.dense.bias', 'lm_head.layer_norm.weight', 'lm_head.decoder.weight', 'lm_head.dense.weight', 'lm_head.layer_norm.bias', 'roberta.pooler.dense.weight', 'lm_head.dense.bias']\n",
      "- This IS expected if you are initializing RobertaForSequenceClassification from the checkpoint of a model trained on another task or with another architecture (e.g. initializing a BertForSequenceClassification model from a BertForPreTraining model).\n",
      "- This IS NOT expected if you are initializing RobertaForSequenceClassification from the checkpoint of a model that you expect to be exactly identical (initializing a BertForSequenceClassification model from a BertForSequenceClassification model).\n",
      "Some weights of RobertaForSequenceClassification were not initialized from the model checkpoint at roberta-base and are newly initialized: ['classifier.out_proj.weight', 'classifier.dense.bias', 'classifier.out_proj.bias', 'classifier.dense.weight']\n",
      "You should probably TRAIN this model on a down-stream task to be able to use it for predictions and inference.\n"
     ]
    }
   ],
   "source": [
    "#model_reddit_cpu=torch.load(path,map_location=torch.device('cpu'))\n",
    "#path=a+\"\\\\reddit_bert_uncased.pt\"\n",
    "#setting up the model for review classification training\n",
    "from simpletransformers.classification import ClassificationModel, ClassificationArgs\n",
    "import pandas as pd\n",
    "import logging\n",
    "\n",
    "\n",
    "logging.basicConfig(level=logging.INFO)\n",
    "transformers_logger = logging.getLogger(\"transformers\")\n",
    "transformers_logger.setLevel(logging.WARNING)\n",
    "\n",
    "# Optional model configuration\n",
    "model_args = ClassificationArgs(num_train_epochs=3)\n",
    "\n",
    "# Create a ClassificationModel\n",
    "model = ClassificationModel(\n",
    "    \"roberta\", \"roberta-base\",\n",
    "    num_labels=11,\n",
    "    args=model_args,\n",
    "    use_cuda=False\n",
    ") \n"
   ]
  },
  {
   "cell_type": "code",
   "execution_count": 88,
   "metadata": {},
   "outputs": [
    {
     "data": {
      "text/plain": [
       "'# Training the model and saving it.\\nmodel.train_model(train_df, output_dir =a+\"\\\\review_category_classification\")'"
      ]
     },
     "execution_count": 88,
     "metadata": {},
     "output_type": "execute_result"
    }
   ],
   "source": [
    "'''# Training the model and saving it.\n",
    "model.train_model(train_df, output_dir =a+\"\\\\review_category_classification\")'''"
   ]
  },
  {
   "cell_type": "markdown",
   "metadata": {},
   "source": [
    "# sentiment analysis"
   ]
  },
  {
   "cell_type": "code",
   "execution_count": 89,
   "metadata": {},
   "outputs": [],
   "source": [
    "#seperating the positive and negative reviews\n",
    "negative_list0=[]\n",
    "positve_list1=[]\n",
    "for i in range(len(df['Liked'])):\n",
    "    #print(df['Review'][i])\n",
    "    #print(df['Category'][i])\n",
    "    idx=df['Liked'][i]\n",
    "    if idx==0:\n",
    "        temp=[df['Review'][i],idx]\n",
    "        negative_list0.append(temp)\n",
    "    elif idx==1:\n",
    "        temp=[df['Review'][i],idx]\n",
    "        positve_list1.append(temp)"
   ]
  },
  {
   "cell_type": "code",
   "execution_count": 90,
   "metadata": {},
   "outputs": [
    {
     "name": "stdout",
     "output_type": "stream",
     "text": [
      "1225\n",
      "1267\n"
     ]
    }
   ],
   "source": [
    "#viewing the length of positive nad negative reviews\n",
    "print(len(negative_list0))\n",
    "print(len(positve_list1))"
   ]
  },
  {
   "cell_type": "code",
   "execution_count": 91,
   "metadata": {},
   "outputs": [
    {
     "data": {
      "image/png": "[encoded data removed]",
      "text/plain": [
       "<Figure size 720x504 with 1 Axes>"
      ]
     },
     "metadata": {},
     "output_type": "display_data"
    }
   ],
   "source": [
    "# graphical representation of the dataset for sentiment Analysis\n",
    "category_names = ['Positive','Negative']\n",
    "data = [len(positve_list1), len(negative_list0)]\n",
    "mycolors = ['green', 'red']\n",
    "# Creating plot\n",
    "fig = plt.figure(figsize =(10, 7))\n",
    "plt.pie(data, labels = category_names, autopct='%.0f%%',colors=mycolors, wedgeprops = { 'linewidth' : 3, 'edgecolor' : 'white' })\n",
    "plt.title(\"Percentage of Review in each category\")\n",
    "# show plot\n",
    "plt.show()"
   ]
  },
  {
   "cell_type": "code",
   "execution_count": 92,
   "metadata": {},
   "outputs": [],
   "source": [
    "#creating the traing and testing list for sentiment analysis\n",
    "senti_train_list=[]\n",
    "senti_test_list=[]\n",
    "pos_length=int(len(positve_list1)*80)//100\n",
    "neg_length=int(len(negative_list0)*80)//100\n",
    "senti_train_list+=positve_list1[:pos_length]+negative_list0[:neg_length]\n",
    "senti_test_list+=positve_list1[pos_length:]+negative_list0[neg_length:]"
   ]
  },
  {
   "cell_type": "code",
   "execution_count": 93,
   "metadata": {},
   "outputs": [
    {
     "name": "stderr",
     "output_type": "stream",
     "text": [
      "Some weights of the model checkpoint at roberta-base were not used when initializing RobertaForSequenceClassification: ['lm_head.bias', 'roberta.pooler.dense.bias', 'lm_head.layer_norm.weight', 'lm_head.decoder.weight', 'lm_head.dense.weight', 'lm_head.layer_norm.bias', 'roberta.pooler.dense.weight', 'lm_head.dense.bias']\n",
      "- This IS expected if you are initializing RobertaForSequenceClassification from the checkpoint of a model trained on another task or with another architecture (e.g. initializing a BertForSequenceClassification model from a BertForPreTraining model).\n",
      "- This IS NOT expected if you are initializing RobertaForSequenceClassification from the checkpoint of a model that you expect to be exactly identical (initializing a BertForSequenceClassification model from a BertForSequenceClassification model).\n",
      "Some weights of RobertaForSequenceClassification were not initialized from the model checkpoint at roberta-base and are newly initialized: ['classifier.out_proj.weight', 'classifier.dense.bias', 'classifier.out_proj.bias', 'classifier.dense.weight']\n",
      "You should probably TRAIN this model on a down-stream task to be able to use it for predictions and inference.\n"
     ]
    }
   ],
   "source": [
    "#configuring the model for training the sentiment analysis model\n",
    "from simpletransformers.classification import ClassificationModel, ClassificationArgs\n",
    "import pandas as pd\n",
    "import logging\n",
    "\n",
    "\n",
    "logging.basicConfig(level=logging.INFO)\n",
    "transformers_logger = logging.getLogger(\"transformers\")\n",
    "transformers_logger.setLevel(logging.WARNING)\n",
    "\n",
    "# Preparing train data\n",
    "\n",
    "senti_train_df = pd.DataFrame(senti_train_list)\n",
    "senti_train_df.columns = [\"text\", \"labels\"]\n",
    "\n",
    "# Preparing eval data\n",
    "\n",
    "senti_eval_df = pd.DataFrame(senti_test_list)\n",
    "senti_eval_df.columns = [\"text\", \"labels\"]\n",
    "\n",
    "# Optional model configuration\n",
    "senti_model_args = ClassificationArgs(num_train_epochs=3)\n",
    "\n",
    "# Create a ClassificationModel\n",
    "senti_model = ClassificationModel(\n",
    "    \"roberta\", \"roberta-base\", args=senti_model_args, use_cuda=False\n",
    ")\n",
    "\n"
   ]
  },
  {
   "cell_type": "code",
   "execution_count": 94,
   "metadata": {},
   "outputs": [
    {
     "data": {
      "text/html": [
       "<div>\n",
       "<style scoped>\n",
       "    .dataframe tbody tr th:only-of-type {\n",
       "        vertical-align: middle;\n",
       "    }\n",
       "\n",
       "    .dataframe tbody tr th {\n",
       "        vertical-align: top;\n",
       "    }\n",
       "\n",
       "    .dataframe thead th {\n",
       "        text-align: right;\n",
       "    }\n",
       "</style>\n",
       "<table border=\"1\" class=\"dataframe\">\n",
       "  <thead>\n",
       "    <tr style=\"text-align: right;\">\n",
       "      <th></th>\n",
       "      <th>text</th>\n",
       "      <th>labels</th>\n",
       "    </tr>\n",
       "  </thead>\n",
       "  <tbody>\n",
       "    <tr>\n",
       "      <th>0</th>\n",
       "      <td>wow loved this place</td>\n",
       "      <td>1</td>\n",
       "    </tr>\n",
       "    <tr>\n",
       "      <th>1</th>\n",
       "      <td>stopped by during the late may bank holiday of...</td>\n",
       "      <td>1</td>\n",
       "    </tr>\n",
       "    <tr>\n",
       "      <th>2</th>\n",
       "      <td>the selection on the menu was great and so wer...</td>\n",
       "      <td>1</td>\n",
       "    </tr>\n",
       "    <tr>\n",
       "      <th>3</th>\n",
       "      <td>the fries were great too</td>\n",
       "      <td>1</td>\n",
       "    </tr>\n",
       "    <tr>\n",
       "      <th>4</th>\n",
       "      <td>a great touch</td>\n",
       "      <td>1</td>\n",
       "    </tr>\n",
       "    <tr>\n",
       "      <th>...</th>\n",
       "      <td>...</td>\n",
       "      <td>...</td>\n",
       "    </tr>\n",
       "    <tr>\n",
       "      <th>1988</th>\n",
       "      <td>all my family members got sick after eating there</td>\n",
       "      <td>0</td>\n",
       "    </tr>\n",
       "    <tr>\n",
       "      <th>1989</th>\n",
       "      <td>my boyfriend got really sick after eating there</td>\n",
       "      <td>0</td>\n",
       "    </tr>\n",
       "    <tr>\n",
       "      <th>1990</th>\n",
       "      <td>it is not a hygienic place to dine</td>\n",
       "      <td>0</td>\n",
       "    </tr>\n",
       "    <tr>\n",
       "      <th>1991</th>\n",
       "      <td>the place has so much dirt</td>\n",
       "      <td>0</td>\n",
       "    </tr>\n",
       "    <tr>\n",
       "      <th>1992</th>\n",
       "      <td>i found a mental piece in my salad</td>\n",
       "      <td>0</td>\n",
       "    </tr>\n",
       "  </tbody>\n",
       "</table>\n",
       "<p>1993 rows × 2 columns</p>\n",
       "</div>"
      ],
      "text/plain": [
       "                                                   text  labels\n",
       "0                                  wow loved this place       1\n",
       "1     stopped by during the late may bank holiday of...       1\n",
       "2     the selection on the menu was great and so wer...       1\n",
       "3                              the fries were great too       1\n",
       "4                                         a great touch       1\n",
       "...                                                 ...     ...\n",
       "1988  all my family members got sick after eating there       0\n",
       "1989    my boyfriend got really sick after eating there       0\n",
       "1990                 it is not a hygienic place to dine       0\n",
       "1991                         the place has so much dirt       0\n",
       "1992                 i found a mental piece in my salad       0\n",
       "\n",
       "[1993 rows x 2 columns]"
      ]
     },
     "execution_count": 94,
     "metadata": {},
     "output_type": "execute_result"
    }
   ],
   "source": [
    "#viewing the traing dataset of sentiment analysis\n",
    "senti_train_df"
   ]
  },
  {
   "cell_type": "code",
   "execution_count": 95,
   "metadata": {},
   "outputs": [
    {
     "data": {
      "text/html": [
       "<div>\n",
       "<style scoped>\n",
       "    .dataframe tbody tr th:only-of-type {\n",
       "        vertical-align: middle;\n",
       "    }\n",
       "\n",
       "    .dataframe tbody tr th {\n",
       "        vertical-align: top;\n",
       "    }\n",
       "\n",
       "    .dataframe thead th {\n",
       "        text-align: right;\n",
       "    }\n",
       "</style>\n",
       "<table border=\"1\" class=\"dataframe\">\n",
       "  <thead>\n",
       "    <tr style=\"text-align: right;\">\n",
       "      <th></th>\n",
       "      <th>text</th>\n",
       "      <th>labels</th>\n",
       "    </tr>\n",
       "  </thead>\n",
       "  <tbody>\n",
       "    <tr>\n",
       "      <th>0</th>\n",
       "      <td>quantity exactly same as mentioned in the menu</td>\n",
       "      <td>1</td>\n",
       "    </tr>\n",
       "    <tr>\n",
       "      <th>1</th>\n",
       "      <td>the atmosphere is great for dinner dtae</td>\n",
       "      <td>1</td>\n",
       "    </tr>\n",
       "    <tr>\n",
       "      <th>2</th>\n",
       "      <td>the melody songs at night hits different and v...</td>\n",
       "      <td>1</td>\n",
       "    </tr>\n",
       "    <tr>\n",
       "      <th>3</th>\n",
       "      <td>it has has family restaurts feels and atmosphe...</td>\n",
       "      <td>1</td>\n",
       "    </tr>\n",
       "    <tr>\n",
       "      <th>4</th>\n",
       "      <td>the yellow light melo songs and great food mad...</td>\n",
       "      <td>1</td>\n",
       "    </tr>\n",
       "    <tr>\n",
       "      <th>...</th>\n",
       "      <td>...</td>\n",
       "      <td>...</td>\n",
       "    </tr>\n",
       "    <tr>\n",
       "      <th>494</th>\n",
       "      <td>for a self proclaimed coffee cafe i was wildly...</td>\n",
       "      <td>0</td>\n",
       "    </tr>\n",
       "    <tr>\n",
       "      <th>495</th>\n",
       "      <td>i think not again</td>\n",
       "      <td>0</td>\n",
       "    </tr>\n",
       "    <tr>\n",
       "      <th>496</th>\n",
       "      <td>i hate to disagree with my fellow yelpers but ...</td>\n",
       "      <td>0</td>\n",
       "    </tr>\n",
       "    <tr>\n",
       "      <th>497</th>\n",
       "      <td>i live in the neighborhood so i am disappointe...</td>\n",
       "      <td>0</td>\n",
       "    </tr>\n",
       "    <tr>\n",
       "      <th>498</th>\n",
       "      <td>this greedy corporation will never see another...</td>\n",
       "      <td>0</td>\n",
       "    </tr>\n",
       "  </tbody>\n",
       "</table>\n",
       "<p>499 rows × 2 columns</p>\n",
       "</div>"
      ],
      "text/plain": [
       "                                                  text  labels\n",
       "0       quantity exactly same as mentioned in the menu       1\n",
       "1              the atmosphere is great for dinner dtae       1\n",
       "2    the melody songs at night hits different and v...       1\n",
       "3    it has has family restaurts feels and atmosphe...       1\n",
       "4    the yellow light melo songs and great food mad...       1\n",
       "..                                                 ...     ...\n",
       "494  for a self proclaimed coffee cafe i was wildly...       0\n",
       "495                                  i think not again       0\n",
       "496  i hate to disagree with my fellow yelpers but ...       0\n",
       "497  i live in the neighborhood so i am disappointe...       0\n",
       "498  this greedy corporation will never see another...       0\n",
       "\n",
       "[499 rows x 2 columns]"
      ]
     },
     "execution_count": 95,
     "metadata": {},
     "output_type": "execute_result"
    }
   ],
   "source": [
    "#viewing the testing dataset of sentiment analysis\n",
    "senti_eval_df"
   ]
  },
  {
   "cell_type": "code",
   "execution_count": 96,
   "metadata": {},
   "outputs": [],
   "source": [
    "# Training the sentiment analysis model and saving it\n",
    "#senti_model.train_model(train_df)\n",
    "\n"
   ]
  },
  {
   "cell_type": "markdown",
   "metadata": {},
   "source": [
    "# Training is completed. Now with the trained model the results will be fetched"
   ]
  },
  {
   "cell_type": "code",
   "execution_count": 97,
   "metadata": {},
   "outputs": [],
   "source": [
    "#loading the reviwe classification model from the saved directory\n",
    "model_load_review = ClassificationModel(\n",
    "    \"roberta\", a+\"\\\\review_category_classifi\",use_cuda=False\n",
    ")"
   ]
  },
  {
   "cell_type": "code",
   "execution_count": 98,
   "metadata": {},
   "outputs": [
    {
     "name": "stderr",
     "output_type": "stream",
     "text": [
      "INFO:simpletransformers.classification.classification_utils: Converting to features started. Cache is not used.\n"
     ]
    },
    {
     "data": {
      "application/vnd.jupyter.widget-view+json": {
       "model_id": "c0b0aea4d9e348f18683e04e7849cbba",
       "version_major": 2,
       "version_minor": 0
      },
      "text/plain": [
       "HBox(children=(HTML(value=''), FloatProgress(value=0.0, max=627.0), HTML(value='')))"
      ]
     },
     "metadata": {},
     "output_type": "display_data"
    },
    {
     "name": "stderr",
     "output_type": "stream",
     "text": [
      "INFO:simpletransformers.classification.classification_utils: Saving features into cached file cache_dir/cached_dev_roberta_128_11_2\n"
     ]
    },
    {
     "name": "stdout",
     "output_type": "stream",
     "text": [
      "\n"
     ]
    },
    {
     "data": {
      "application/vnd.jupyter.widget-view+json": {
       "model_id": "e11819876a644e29a3d77d2b8f83e0ce",
       "version_major": 2,
       "version_minor": 0
      },
      "text/plain": [
       "HBox(children=(HTML(value='Running Evaluation'), FloatProgress(value=0.0, max=79.0), HTML(value='')))"
      ]
     },
     "metadata": {},
     "output_type": "display_data"
    },
    {
     "name": "stderr",
     "output_type": "stream",
     "text": [
      "INFO:simpletransformers.classification.classification_model:{'mcc': 0.7870811189572927, 'eval_loss': 0.6321061290329015}\n"
     ]
    },
    {
     "name": "stdout",
     "output_type": "stream",
     "text": [
      "\n"
     ]
    }
   ],
   "source": [
    "# Evaluate the reviwe classification model\n",
    "result, model_outputs, wrong_predictions = model_load_review.eval_model(eval_df)"
   ]
  },
  {
   "cell_type": "code",
   "execution_count": 99,
   "metadata": {},
   "outputs": [
    {
     "name": "stdout",
     "output_type": "stream",
     "text": [
      "results {'mcc': 0.7870811189572927, 'eval_loss': 0.6321061290329015}\n"
     ]
    }
   ],
   "source": [
    "#fetching the accuarcy of the trained review classification model\n",
    "print(\"results\",result)\n",
    "#print(\"wrong\",(len(wrong_predictions)))\n"
   ]
  },
  {
   "cell_type": "code",
   "execution_count": 100,
   "metadata": {},
   "outputs": [],
   "source": [
    "#loading the trained model of sentiment analysis\n",
    "model_senti__load = ClassificationModel(\n",
    "    \"roberta\", os.getcwd()+\"\\\\sentiAnal_outputs\",use_cuda=False\n",
    ")"
   ]
  },
  {
   "cell_type": "code",
   "execution_count": 101,
   "metadata": {},
   "outputs": [
    {
     "name": "stderr",
     "output_type": "stream",
     "text": [
      "INFO:simpletransformers.classification.classification_utils: Converting to features started. Cache is not used.\n"
     ]
    },
    {
     "data": {
      "application/vnd.jupyter.widget-view+json": {
       "model_id": "abd094a54dab4a9c8e7820d1ad330377",
       "version_major": 2,
       "version_minor": 0
      },
      "text/plain": [
       "HBox(children=(HTML(value=''), FloatProgress(value=0.0, max=499.0), HTML(value='')))"
      ]
     },
     "metadata": {},
     "output_type": "display_data"
    },
    {
     "name": "stderr",
     "output_type": "stream",
     "text": [
      "INFO:simpletransformers.classification.classification_utils: Saving features into cached file cache_dir/cached_dev_roberta_128_2_2\n"
     ]
    },
    {
     "name": "stdout",
     "output_type": "stream",
     "text": [
      "\n"
     ]
    },
    {
     "data": {
      "application/vnd.jupyter.widget-view+json": {
       "model_id": "05218b1d587f47858e419c0668557abb",
       "version_major": 2,
       "version_minor": 0
      },
      "text/plain": [
       "HBox(children=(HTML(value='Running Evaluation'), FloatProgress(value=0.0, max=63.0), HTML(value='')))"
      ]
     },
     "metadata": {},
     "output_type": "display_data"
    },
    {
     "name": "stderr",
     "output_type": "stream",
     "text": [
      "INFO:simpletransformers.classification.classification_model:{'mcc': 0.9358902319909262, 'tp': 245, 'tn': 238, 'fp': 7, 'fn': 9, 'auroc': 0.9919010123734533, 'auprc': 0.9928178439310903, 'eval_loss': 0.17749533282513436}\n"
     ]
    },
    {
     "name": "stdout",
     "output_type": "stream",
     "text": [
      "\n"
     ]
    }
   ],
   "source": [
    "# Evaluate the sentiment analysis model\n",
    "result, model_outputs, wrong_predictions = model_senti__load.eval_model(eval_df =senti_eval_df,output_dir =os.getcwd()+\"\\\\senti_eval_results_testing\")\n"
   ]
  },
  {
   "cell_type": "code",
   "execution_count": 102,
   "metadata": {},
   "outputs": [
    {
     "name": "stdout",
     "output_type": "stream",
     "text": [
      "{'mcc': 0.9358902319909262, 'tp': 245, 'tn': 238, 'fp': 7, 'fn': 9, 'auroc': 0.9919010123734533, 'auprc': 0.9928178439310903, 'eval_loss': 0.17749533282513436}\n"
     ]
    }
   ],
   "source": [
    "#fetching the accuarcy of the trained sentiment analysis\n",
    "print(result)"
   ]
  },
  {
   "cell_type": "markdown",
   "metadata": {},
   "source": [
    "# Now with the trained model all the reviwes will be claassified into 11 different categories "
   ]
  },
  {
   "cell_type": "code",
   "execution_count": 103,
   "metadata": {},
   "outputs": [],
   "source": [
    "\n",
    "predict_list=df['Review'].tolist()"
   ]
  },
  {
   "cell_type": "code",
   "execution_count": 104,
   "metadata": {},
   "outputs": [
    {
     "name": "stdout",
     "output_type": "stream",
     "text": [
      "['wow loved this place', 'crust is not good', 'not tasty and the texture was just nasty', 'stopped by during the late may bank holiday off rick steve recommendation and loved it', 'the selection on the menu was great and so were the prices']\n",
      "2492\n"
     ]
    }
   ],
   "source": [
    "print(predict_list[:5])\n",
    "print(len(predict_list))"
   ]
  },
  {
   "cell_type": "code",
   "execution_count": 105,
   "metadata": {},
   "outputs": [
    {
     "name": "stderr",
     "output_type": "stream",
     "text": [
      "INFO:simpletransformers.classification.classification_utils: Converting to features started. Cache is not used.\n"
     ]
    },
    {
     "data": {
      "application/vnd.jupyter.widget-view+json": {
       "model_id": "d9a53ed5dfb544dca23e296306c2c22e",
       "version_major": 2,
       "version_minor": 0
      },
      "text/plain": [
       "HBox(children=(HTML(value=''), FloatProgress(value=0.0, max=2492.0), HTML(value='')))"
      ]
     },
     "metadata": {},
     "output_type": "display_data"
    },
    {
     "name": "stdout",
     "output_type": "stream",
     "text": [
      "\n"
     ]
    },
    {
     "data": {
      "application/vnd.jupyter.widget-view+json": {
       "model_id": "8a3f5dd0c6974b53acf68e8a14eb6492",
       "version_major": 2,
       "version_minor": 0
      },
      "text/plain": [
       "HBox(children=(HTML(value=''), FloatProgress(value=0.0, max=312.0), HTML(value='')))"
      ]
     },
     "metadata": {},
     "output_type": "display_data"
    },
    {
     "name": "stdout",
     "output_type": "stream",
     "text": [
      "\n"
     ]
    }
   ],
   "source": [
    "#THIS CELL WILL TAKE SOME TIME\n",
    "#predicting the categories for all the reviwes with the trained model\n",
    "total_predictions, total_raw_outputs = model_load_review.predict(predict_list)"
   ]
  },
  {
   "cell_type": "code",
   "execution_count": 106,
   "metadata": {},
   "outputs": [
    {
     "name": "stdout",
     "output_type": "stream",
     "text": [
      "2492\n"
     ]
    }
   ],
   "source": [
    "temp_total_predictions=total_predictions\n",
    "print(len(total_predictions))"
   ]
  },
  {
   "cell_type": "code",
   "execution_count": 107,
   "metadata": {},
   "outputs": [],
   "source": [
    "food_taste=[]\n",
    "ambience=[]\n",
    "atmosphere=[]\n",
    "cost=[]\n",
    "expierence=[]\n",
    "hygiene=[]\n",
    "menu=[]\n",
    "quality=[]\n",
    "quantity=[]\n",
    "recommend=[]\n",
    "services=[]\n",
    "senti_predicted_list=[[] for x in range(11)]\n",
    "for i in range(len(total_predictions)):\n",
    "    if total_predictions[i]==0:\n",
    "        food_taste.append(predict_list[i])\n",
    "    if total_predictions[i]==1:\n",
    "        ambience.append(predict_list[i])\n",
    "    if total_predictions[i]==2:\n",
    "        atmosphere.append(predict_list[i])\n",
    "    if total_predictions[i]==3:\n",
    "        cost.append(predict_list[i])\n",
    "    if total_predictions[i]==4:\n",
    "        expierence.append(predict_list[i])\n",
    "    if total_predictions[i]==5:\n",
    "        hygiene.append(predict_list[i])\n",
    "    if total_predictions[i]==6:\n",
    "        menu.append(predict_list[i])\n",
    "    if total_predictions[i]==7:\n",
    "        quality.append(predict_list[i])\n",
    "    if total_predictions[i]==8:\n",
    "        quantity.append(predict_list[i])\n",
    "    if total_predictions[i]==9:\n",
    "        recommend.append(predict_list[i])\n",
    "    if total_predictions[i]==10:\n",
    "        services.append(predict_list[i])\n",
    "        \n",
    "        "
   ]
  },
  {
   "cell_type": "code",
   "execution_count": 108,
   "metadata": {},
   "outputs": [],
   "source": [
    "#creating a nested list of each categorised set of reviews\n",
    "\n",
    "category_list=[food_taste, ambience, atmosphere, cost, expierence, hygiene, menu, quality, quantity, recommend, services]\n"
   ]
  },
  {
   "cell_type": "code",
   "execution_count": 109,
   "metadata": {},
   "outputs": [
    {
     "data": {
      "text/plain": [
       "['i was disgusted because i was pretty sure that was human hair',\n",
       " 'i guess i should have known that this place would suck because it is inside of the excalibur but i didn t use my common sense',\n",
       " 'walked in and the place smelled like an old grease trap and only others there eating',\n",
       " 'it was probably dirt',\n",
       " 'when my order arrived one of the gyros was missing']"
      ]
     },
     "execution_count": 109,
     "metadata": {},
     "output_type": "execute_result"
    }
   ],
   "source": [
    "category_list[5][:5]"
   ]
  },
  {
   "cell_type": "markdown",
   "metadata": {},
   "source": [
    "# Now we pass this list which is having list of reviwes of each category into our trained sentiment analysis model in which we will get the sentiment analysis for each category of reviwes."
   ]
  },
  {
   "cell_type": "code",
   "execution_count": 110,
   "metadata": {},
   "outputs": [],
   "source": [
    "senti_predicted_list=[[] for x in range(11)]\n",
    "#print(senti_predicted_list[:5])"
   ]
  },
  {
   "cell_type": "code",
   "execution_count": 111,
   "metadata": {},
   "outputs": [
    {
     "name": "stderr",
     "output_type": "stream",
     "text": [
      "INFO:simpletransformers.classification.classification_utils: Converting to features started. Cache is not used.\n"
     ]
    },
    {
     "data": {
      "application/vnd.jupyter.widget-view+json": {
       "model_id": "0c478da30d484a4bb3d880a4e3595c05",
       "version_major": 2,
       "version_minor": 0
      },
      "text/plain": [
       "HBox(children=(HTML(value=''), FloatProgress(value=0.0, max=527.0), HTML(value='')))"
      ]
     },
     "metadata": {},
     "output_type": "display_data"
    },
    {
     "name": "stdout",
     "output_type": "stream",
     "text": [
      "\n"
     ]
    },
    {
     "data": {
      "application/vnd.jupyter.widget-view+json": {
       "model_id": "7154ec69ff0c4e7a88adf738f98857ea",
       "version_major": 2,
       "version_minor": 0
      },
      "text/plain": [
       "HBox(children=(HTML(value=''), FloatProgress(value=0.0, max=66.0), HTML(value='')))"
      ]
     },
     "metadata": {},
     "output_type": "display_data"
    },
    {
     "name": "stderr",
     "output_type": "stream",
     "text": [
      "INFO:simpletransformers.classification.classification_utils: Converting to features started. Cache is not used.\n"
     ]
    },
    {
     "name": "stdout",
     "output_type": "stream",
     "text": [
      "\n"
     ]
    },
    {
     "data": {
      "application/vnd.jupyter.widget-view+json": {
       "model_id": "9e32f0b7a7654b34806441185e3120b7",
       "version_major": 2,
       "version_minor": 0
      },
      "text/plain": [
       "HBox(children=(HTML(value=''), FloatProgress(value=0.0, max=111.0), HTML(value='')))"
      ]
     },
     "metadata": {},
     "output_type": "display_data"
    },
    {
     "name": "stdout",
     "output_type": "stream",
     "text": [
      "\n"
     ]
    },
    {
     "data": {
      "application/vnd.jupyter.widget-view+json": {
       "model_id": "828d008aec504cc18850349025f78a45",
       "version_major": 2,
       "version_minor": 0
      },
      "text/plain": [
       "HBox(children=(HTML(value=''), FloatProgress(value=0.0, max=14.0), HTML(value='')))"
      ]
     },
     "metadata": {},
     "output_type": "display_data"
    },
    {
     "name": "stderr",
     "output_type": "stream",
     "text": [
      "INFO:simpletransformers.classification.classification_utils: Converting to features started. Cache is not used.\n"
     ]
    },
    {
     "name": "stdout",
     "output_type": "stream",
     "text": [
      "\n"
     ]
    },
    {
     "data": {
      "application/vnd.jupyter.widget-view+json": {
       "model_id": "7bd58e8cd2874030818420504ac0aad3",
       "version_major": 2,
       "version_minor": 0
      },
      "text/plain": [
       "HBox(children=(HTML(value=''), FloatProgress(value=0.0, max=112.0), HTML(value='')))"
      ]
     },
     "metadata": {},
     "output_type": "display_data"
    },
    {
     "name": "stdout",
     "output_type": "stream",
     "text": [
      "\n"
     ]
    },
    {
     "data": {
      "application/vnd.jupyter.widget-view+json": {
       "model_id": "07de5948b1214e74926b1a7ac0b34aaa",
       "version_major": 2,
       "version_minor": 0
      },
      "text/plain": [
       "HBox(children=(HTML(value=''), FloatProgress(value=0.0, max=14.0), HTML(value='')))"
      ]
     },
     "metadata": {},
     "output_type": "display_data"
    },
    {
     "name": "stderr",
     "output_type": "stream",
     "text": [
      "INFO:simpletransformers.classification.classification_utils: Converting to features started. Cache is not used.\n"
     ]
    },
    {
     "name": "stdout",
     "output_type": "stream",
     "text": [
      "\n"
     ]
    },
    {
     "data": {
      "application/vnd.jupyter.widget-view+json": {
       "model_id": "314811fd9e82402a8fab80c3fdcb4649",
       "version_major": 2,
       "version_minor": 0
      },
      "text/plain": [
       "HBox(children=(HTML(value=''), FloatProgress(value=0.0, max=158.0), HTML(value='')))"
      ]
     },
     "metadata": {},
     "output_type": "display_data"
    },
    {
     "name": "stdout",
     "output_type": "stream",
     "text": [
      "\n"
     ]
    },
    {
     "data": {
      "application/vnd.jupyter.widget-view+json": {
       "model_id": "d86ce35cfd5041b5af4ab3be6b80ad2b",
       "version_major": 2,
       "version_minor": 0
      },
      "text/plain": [
       "HBox(children=(HTML(value=''), FloatProgress(value=0.0, max=20.0), HTML(value='')))"
      ]
     },
     "metadata": {},
     "output_type": "display_data"
    },
    {
     "name": "stderr",
     "output_type": "stream",
     "text": [
      "INFO:simpletransformers.classification.classification_utils: Converting to features started. Cache is not used.\n"
     ]
    },
    {
     "name": "stdout",
     "output_type": "stream",
     "text": [
      "\n"
     ]
    },
    {
     "data": {
      "application/vnd.jupyter.widget-view+json": {
       "model_id": "54253d26512e49bba0f554682e1057a1",
       "version_major": 2,
       "version_minor": 0
      },
      "text/plain": [
       "HBox(children=(HTML(value=''), FloatProgress(value=0.0, max=424.0), HTML(value='')))"
      ]
     },
     "metadata": {},
     "output_type": "display_data"
    },
    {
     "name": "stdout",
     "output_type": "stream",
     "text": [
      "\n"
     ]
    },
    {
     "data": {
      "application/vnd.jupyter.widget-view+json": {
       "model_id": "2bcf6a8f2761486c95a0e65d298059b7",
       "version_major": 2,
       "version_minor": 0
      },
      "text/plain": [
       "HBox(children=(HTML(value=''), FloatProgress(value=0.0, max=53.0), HTML(value='')))"
      ]
     },
     "metadata": {},
     "output_type": "display_data"
    },
    {
     "name": "stderr",
     "output_type": "stream",
     "text": [
      "INFO:simpletransformers.classification.classification_utils: Converting to features started. Cache is not used.\n"
     ]
    },
    {
     "name": "stdout",
     "output_type": "stream",
     "text": [
      "\n"
     ]
    },
    {
     "data": {
      "application/vnd.jupyter.widget-view+json": {
       "model_id": "60d448be29fc4a42b4aedaa09d0b8055",
       "version_major": 2,
       "version_minor": 0
      },
      "text/plain": [
       "HBox(children=(HTML(value=''), FloatProgress(value=0.0, max=102.0), HTML(value='')))"
      ]
     },
     "metadata": {},
     "output_type": "display_data"
    },
    {
     "name": "stdout",
     "output_type": "stream",
     "text": [
      "\n"
     ]
    },
    {
     "data": {
      "application/vnd.jupyter.widget-view+json": {
       "model_id": "cb37d2b62e6049fc8adeb6d2c9c78a51",
       "version_major": 2,
       "version_minor": 0
      },
      "text/plain": [
       "HBox(children=(HTML(value=''), FloatProgress(value=0.0, max=13.0), HTML(value='')))"
      ]
     },
     "metadata": {},
     "output_type": "display_data"
    },
    {
     "name": "stderr",
     "output_type": "stream",
     "text": [
      "INFO:simpletransformers.classification.classification_utils: Converting to features started. Cache is not used.\n"
     ]
    },
    {
     "name": "stdout",
     "output_type": "stream",
     "text": [
      "\n"
     ]
    },
    {
     "data": {
      "application/vnd.jupyter.widget-view+json": {
       "model_id": "275f1ae2d7954aba92faee254ef00a5d",
       "version_major": 2,
       "version_minor": 0
      },
      "text/plain": [
       "HBox(children=(HTML(value=''), FloatProgress(value=0.0, max=105.0), HTML(value='')))"
      ]
     },
     "metadata": {},
     "output_type": "display_data"
    },
    {
     "name": "stdout",
     "output_type": "stream",
     "text": [
      "\n"
     ]
    },
    {
     "data": {
      "application/vnd.jupyter.widget-view+json": {
       "model_id": "de59b8826d504e03acb6c8cadd450a31",
       "version_major": 2,
       "version_minor": 0
      },
      "text/plain": [
       "HBox(children=(HTML(value=''), FloatProgress(value=0.0, max=14.0), HTML(value='')))"
      ]
     },
     "metadata": {},
     "output_type": "display_data"
    },
    {
     "name": "stderr",
     "output_type": "stream",
     "text": [
      "INFO:simpletransformers.classification.classification_utils: Converting to features started. Cache is not used.\n"
     ]
    },
    {
     "name": "stdout",
     "output_type": "stream",
     "text": [
      "\n"
     ]
    },
    {
     "data": {
      "application/vnd.jupyter.widget-view+json": {
       "model_id": "a5671faf36dc463397d20df583b40e80",
       "version_major": 2,
       "version_minor": 0
      },
      "text/plain": [
       "HBox(children=(HTML(value=''), FloatProgress(value=0.0, max=163.0), HTML(value='')))"
      ]
     },
     "metadata": {},
     "output_type": "display_data"
    },
    {
     "name": "stdout",
     "output_type": "stream",
     "text": [
      "\n"
     ]
    },
    {
     "data": {
      "application/vnd.jupyter.widget-view+json": {
       "model_id": "b6f1145acb1348e8a2cc5152ae865018",
       "version_major": 2,
       "version_minor": 0
      },
      "text/plain": [
       "HBox(children=(HTML(value=''), FloatProgress(value=0.0, max=21.0), HTML(value='')))"
      ]
     },
     "metadata": {},
     "output_type": "display_data"
    },
    {
     "name": "stderr",
     "output_type": "stream",
     "text": [
      "INFO:simpletransformers.classification.classification_utils: Converting to features started. Cache is not used.\n"
     ]
    },
    {
     "name": "stdout",
     "output_type": "stream",
     "text": [
      "\n"
     ]
    },
    {
     "data": {
      "application/vnd.jupyter.widget-view+json": {
       "model_id": "521ffca593a04372810e3ff4af647b17",
       "version_major": 2,
       "version_minor": 0
      },
      "text/plain": [
       "HBox(children=(HTML(value=''), FloatProgress(value=0.0, max=208.0), HTML(value='')))"
      ]
     },
     "metadata": {},
     "output_type": "display_data"
    },
    {
     "name": "stdout",
     "output_type": "stream",
     "text": [
      "\n"
     ]
    },
    {
     "data": {
      "application/vnd.jupyter.widget-view+json": {
       "model_id": "4309b67fb8fb4106961391897fae5518",
       "version_major": 2,
       "version_minor": 0
      },
      "text/plain": [
       "HBox(children=(HTML(value=''), FloatProgress(value=0.0, max=26.0), HTML(value='')))"
      ]
     },
     "metadata": {},
     "output_type": "display_data"
    },
    {
     "name": "stderr",
     "output_type": "stream",
     "text": [
      "INFO:simpletransformers.classification.classification_utils: Converting to features started. Cache is not used.\n"
     ]
    },
    {
     "name": "stdout",
     "output_type": "stream",
     "text": [
      "\n"
     ]
    },
    {
     "data": {
      "application/vnd.jupyter.widget-view+json": {
       "model_id": "473509fd7f6349d3ab113b856d742d13",
       "version_major": 2,
       "version_minor": 0
      },
      "text/plain": [
       "HBox(children=(HTML(value=''), FloatProgress(value=0.0, max=180.0), HTML(value='')))"
      ]
     },
     "metadata": {},
     "output_type": "display_data"
    },
    {
     "name": "stdout",
     "output_type": "stream",
     "text": [
      "\n"
     ]
    },
    {
     "data": {
      "application/vnd.jupyter.widget-view+json": {
       "model_id": "498d75608ca649698ab371b3cf26fd1f",
       "version_major": 2,
       "version_minor": 0
      },
      "text/plain": [
       "HBox(children=(HTML(value=''), FloatProgress(value=0.0, max=23.0), HTML(value='')))"
      ]
     },
     "metadata": {},
     "output_type": "display_data"
    },
    {
     "name": "stderr",
     "output_type": "stream",
     "text": [
      "INFO:simpletransformers.classification.classification_utils: Converting to features started. Cache is not used.\n"
     ]
    },
    {
     "name": "stdout",
     "output_type": "stream",
     "text": [
      "\n"
     ]
    },
    {
     "data": {
      "application/vnd.jupyter.widget-view+json": {
       "model_id": "05e710ffa38a427c81c23681de628126",
       "version_major": 2,
       "version_minor": 0
      },
      "text/plain": [
       "HBox(children=(HTML(value=''), FloatProgress(value=0.0, max=402.0), HTML(value='')))"
      ]
     },
     "metadata": {},
     "output_type": "display_data"
    },
    {
     "name": "stdout",
     "output_type": "stream",
     "text": [
      "\n"
     ]
    },
    {
     "data": {
      "application/vnd.jupyter.widget-view+json": {
       "model_id": "3a1c98aa1f8b4614a846e745536d8a4d",
       "version_major": 2,
       "version_minor": 0
      },
      "text/plain": [
       "HBox(children=(HTML(value=''), FloatProgress(value=0.0, max=51.0), HTML(value='')))"
      ]
     },
     "metadata": {},
     "output_type": "display_data"
    },
    {
     "name": "stdout",
     "output_type": "stream",
     "text": [
      "\n"
     ]
    }
   ],
   "source": [
    "#THIS CELL WILL TAKE SOME TIME\n",
    "#predicting the sentiments of each category\n",
    "for i in range(0, len(category_list)):\n",
    "    temp_total_predictions,temp_total_raw_outputs = model_senti__load.predict(category_list[i])\n",
    "    senti_predicted_list[i]+=temp_total_predictions\n",
    "    "
   ]
  },
  {
   "cell_type": "code",
   "execution_count": 112,
   "metadata": {},
   "outputs": [],
   "source": [
    "\n",
    "#sepearting the postive and negative reviwes of each category\n",
    "plot_list_positive=[]\n",
    "plot_list_negative=[]\n",
    "rating=[]\n",
    "idx=0\n",
    "for cat in senti_predicted_list:\n",
    "    #print(n)\n",
    "    pos_count=cat.count(1)\n",
    "    pos=(pos_count/len(cat))*5\n",
    "    plot_list_positive.append(pos_count)\n",
    "    plot_list_negative.append(len(cat)-pos_count)\n",
    "    rating.append(pos)\n",
    "    "
   ]
  },
  {
   "cell_type": "code",
   "execution_count": 113,
   "metadata": {},
   "outputs": [
    {
     "data": {
      "text/plain": [
       "[327, 81, 97, 78, 172, 19, 81, 41, 110, 101, 167]"
      ]
     },
     "execution_count": 113,
     "metadata": {},
     "output_type": "execute_result"
    }
   ],
   "source": [
    "#count of postive reviwes of each category\n",
    "plot_list_positive"
   ]
  },
  {
   "cell_type": "code",
   "execution_count": 114,
   "metadata": {},
   "outputs": [
    {
     "data": {
      "text/plain": [
       "[200, 30, 15, 80, 252, 83, 24, 122, 98, 79, 235]"
      ]
     },
     "execution_count": 114,
     "metadata": {},
     "output_type": "execute_result"
    }
   ],
   "source": [
    "#count of negative reviwes of each category\n",
    "plot_list_negative"
   ]
  },
  {
   "cell_type": "code",
   "execution_count": 115,
   "metadata": {},
   "outputs": [
    {
     "data": {
      "image/png": "[encoded data removed]",
      "text/plain": [
       "<Figure size 432x288 with 1 Axes>"
      ]
     },
     "metadata": {
      "needs_background": "light"
     },
     "output_type": "display_data"
    }
   ],
   "source": [
    "#graphical representation of positve and negative reviews of each category\n",
    "X = ['Food taste',\n",
    " 'ambience',\n",
    " 'atmosphere',\n",
    " 'cost',\n",
    " 'expierence',\n",
    " 'hygiene',\n",
    " 'menu',\n",
    " 'quality',\n",
    " 'quantity',\n",
    " 'recommend',\n",
    " 'services']\n",
    "ind = np.arange(len(X)) \n",
    "width = 0.35\n",
    " \n",
    "xvals = plot_list_positive\n",
    "bar1 = plt.bar(ind, xvals, width, color = 'g')\n",
    "  \n",
    "yvals = plot_list_negative\n",
    "bar2 = plt.bar(ind+width, yvals, width, color='r')\n",
    "  \n",
    "plt.xlabel(\"Category\")\n",
    "plt.ylabel('count of how much people liked and disliked')\n",
    "plt.title(\"Review Analysis\")\n",
    "  \n",
    "plt.xticks(ind+width,X,rotation=90)\n",
    "#plt.xticks([item for item in range (11)], X,)\n",
    "plt.legend( (bar1, bar2), ('Positive', 'Negative') )\n",
    "plt.show()"
   ]
  },
  {
   "cell_type": "code",
   "execution_count": 116,
   "metadata": {},
   "outputs": [
    {
     "data": {
      "image/png": "[encoded data removed]",
      "text/plain": [
       "<Figure size 432x288 with 1 Axes>"
      ]
     },
     "metadata": {
      "needs_background": "light"
     },
     "output_type": "display_data"
    }
   ],
   "source": [
    "#graphocal representation of positve and negative reviews of each category\n",
    "X = ['Food taste',\n",
    " 'ambience',\n",
    " 'atmosphere',\n",
    " 'cost',\n",
    " 'expierence',\n",
    " 'hygiene',\n",
    " 'menu',\n",
    " 'quality',\n",
    " 'quantity',\n",
    " 'recommend',\n",
    " 'services']\n",
    "ind = np.arange(len(X)) \n",
    "width = 0.35\n",
    "mycolors = ['blue', 'cyan', 'gray', 'orange', 'red','gold','green','pink','#DD7596','#8EB897','hotpink']\n",
    "xvals = rating\n",
    "bar1 = plt.bar(ind, xvals, width, color = mycolors)\n",
    "  \n",
    "\n",
    "  \n",
    "plt.xlabel(\"Category\")\n",
    "plt.ylabel('Rating of each category')\n",
    "plt.title(\"Rating Analysis of each category\")\n",
    "  \n",
    "plt.xticks(ind+width,X,rotation=90)\n",
    "#plt.xticks([item for item in range (11)], X,)\n",
    "#plt.legend( (bar1), ('Positive', 'Negative') )\n",
    "plt.show()"
   ]
  },
  {
   "cell_type": "code",
   "execution_count": 117,
   "metadata": {},
   "outputs": [],
   "source": [
    "overall_rating=(sum(rating)/11)"
   ]
  },
  {
   "cell_type": "code",
   "execution_count": 118,
   "metadata": {},
   "outputs": [
    {
     "name": "stdout",
     "output_type": "stream",
     "text": [
      "OVERALL RATING OF THE RESTAURANT IS : 2.650110342937527\n"
     ]
    }
   ],
   "source": [
    "print(\"OVERALL RATING OF THE RESTAURANT IS :\",overall_rating)"
   ]
  },
  {
   "cell_type": "code",
   "execution_count": null,
   "metadata": {},
   "outputs": [],
   "source": []
  }
 ],
 "metadata": {
  "kernelspec": {
   "display_name": "Python 3",
   "language": "python",
   "name": "python3"
  },
  "language_info": {
   "codemirror_mode": {
    "name": "ipython",
    "version": 3
   },
   "file_extension": ".py",
   "mimetype": "text/x-python",
   "name": "python",
   "nbconvert_exporter": "python",
   "pygments_lexer": "ipython3",
   "version": "3.8.5"
  }
 },
 "nbformat": 4,
 "nbformat_minor": 5
}
